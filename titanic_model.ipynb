{
 "cells": [
  {
   "cell_type": "markdown",
   "id": "9a453d49",
   "metadata": {},
   "source": [
    "This is my first Jupyter Notebook for my first Kaggle Competition"
   ]
  },
  {
   "cell_type": "code",
   "execution_count": 149,
   "id": "2772e174",
   "metadata": {},
   "outputs": [],
   "source": [
    "import pandas as pd\n",
    "import numpy as np  \n",
    "import sklearn.impute as imputer\n",
    "from sklearn.model_selection import train_test_split\n",
    "from sklearn.linear_model import LogisticRegression\n",
    "from sklearn.metrics import accuracy_score\n",
    "from xgboost import XGBClassifier\n",
    "from sklearn.ensemble import RandomForestClassifier\n"
   ]
  },
  {
   "cell_type": "code",
   "execution_count": 11,
   "id": "3877e921",
   "metadata": {},
   "outputs": [],
   "source": [
    "df_train = pd.read_csv('train.csv')\n",
    "df_test = pd.read_csv('test.csv')\n",
    "\n",
    "if 'Survived' not in df_test.columns:\n",
    "    df_test['Survived'] = 0\n",
    "\n",
    "#train.head()"
   ]
  },
  {
   "cell_type": "code",
   "execution_count": 45,
   "id": "6f970fa8",
   "metadata": {},
   "outputs": [],
   "source": [
    "# Approximate boundaries for cabin locations\n",
    "# These are VERY rough estimates and highly simplified.\n",
    "# Actual locations depend on detailed ship architecture and specific cabin placement.\n",
    "# The model assumes cabin numbers generally increase from bow to stern within blocks,\n",
    "# but this is a generalization.\n",
    "#\n",
    "# Format for deck_sections:\n",
    "# Deck_Letter: [(max_number_for_section1, \"section1_name\"),\n",
    "#               (max_number_for_section2, \"section2_name\"),\n",
    "#               (float('inf'), \"last_section_name\")]\n",
    "# The number represents the upper bound for that section. float('inf') captures all higher numbers.\n",
    "\n",
    "deck_sections_simplified = {\n",
    "    'A': [(12, \"front\"), (24, \"middle\"), (float('inf'), \"back\")],  # A-Deck cabins (e.g., A1 to A37+)\n",
    "    'B': [(35, \"front\"), (70, \"middle\"), (float('inf'), \"back\")],  # B-Deck cabins (e.g., B1 to B100+)\n",
    "    'C': [(45, \"front\"), (95, \"middle\"), (float('inf'), \"back\")],  # C-Deck cabins (e.g., C1 to C140+)\n",
    "    # D-Deck had large dining saloons mid-ship. Cabins were often fore and aft of these.\n",
    "    'D': [(20, \"front\"), (35, \"middle\"), (float('inf'), \"back\")], # Simplified: D1-D20 (front), D21-D35 (cabins near/between saloons - 'middle'), D36+ (aft)\n",
    "    'E': [(40, \"front\"), (85, \"middle\"), (float('inf'), \"back\")],  # E-Deck cabins (e.g., E1 to E120+)\n",
    "    # F-Deck had 3rd class dining, pool, Turkish baths mid/aft. Also 2nd class cabins.\n",
    "    # Some cabins physically on F-Deck were designated with 'G' (e.g., G6), these are generally aft.\n",
    "    # This rule is primarily for F-numbered cabins.\n",
    "    'F': [(15, \"front\"), (30, \"middle\"), (float('inf'), \"back\")],\n",
    "    # G-Deck was the lowest passenger deck, mostly 3rd class, and could be interrupted by machinery spaces.\n",
    "    'G': [(25, \"front\"), (float('inf'), \"back\")], # Simplified: front and back sections for cabins, assuming machinery might be mid.\n",
    "    # Special non-passenger cabin areas or unique cabins\n",
    "    'T': [(float('inf'), \"special_location_boat_deck\")] # e.g., Marconi room, some officer's quarters\n",
    "}\n",
    "\n",
    "def get_titanic_cabin_location(cabin_identifier_str):\n",
    "    \"\"\"\n",
    "    Attempts to categorize a Titanic cabin into 'front', 'middle', or 'back'.\n",
    "\n",
    "    Args:\n",
    "        cabin_identifier_str (str): The cabin identifier, e.g., \"C23\", \"B58\".\n",
    "                                    It should start with a deck letter.\n",
    "\n",
    "    Returns:\n",
    "        str: A string indicating the estimated location (\"front\", \"middle\", \"back\"),\n",
    "             a special location, or an error/unknown message.\n",
    "    \"\"\"\n",
    "    if not cabin_identifier_str or not isinstance(cabin_identifier_str, str):\n",
    "        return \"invalid_input_cabin_empty_or_not_string\"\n",
    "\n",
    "    cabin_identifier_str = cabin_identifier_str.strip().upper()\n",
    "\n",
    "    if not cabin_identifier_str:\n",
    "        return \"invalid_input_cabin_empty_after_strip\"\n",
    "\n",
    "    deck_char = cabin_identifier_str[0]\n",
    "    number_part_str = cabin_identifier_str[1:]\n",
    "\n",
    "    if deck_char not in deck_sections_simplified:\n",
    "        # Handle decks not in our simplified list (e.g., Orlop, Tank Top, or invalid)\n",
    "        if deck_char in ['O', 'R', 'L', 'P']: # Orlop deck letters sometimes seen in data\n",
    "             return f\"deck_{deck_char}_likely_cargo_or_machinery_not_passenger_cabins\"\n",
    "        return f\"unknown_deck_{deck_char}\"\n",
    "\n",
    "    # For decks like 'T' that might not have numbers or are special\n",
    "    if not number_part_str and deck_char == 'T':\n",
    "        return deck_sections_simplified['T'][0][1] # Returns \"special_location_boat_deck\"\n",
    "\n",
    "    # Extract numeric part of the cabin number, allowing for suffixes like 'A' in 'C85A'\n",
    "    numeric_digits = ''.join(filter(str.isdigit, number_part_str))\n",
    "\n",
    "    if not numeric_digits:\n",
    "        # This could happen if input is just \"C\" or \"CABIN\" or \"F G6\" (which is complex)\n",
    "        # For \"F G6\", this simple parser would struggle. It expects \"G6\".\n",
    "        if deck_char == 'F' and 'G' in number_part_str: # Basic attempt to catch \"F Gxx\"\n",
    "            return \"likely_aft_third_class_on_F_deck\"\n",
    "        return f\"cabin_number_missing_or_unparsable_for_deck_{deck_char}\"\n",
    "\n",
    "    try:\n",
    "        cabin_num = int(numeric_digits)\n",
    "    except ValueError:\n",
    "        return f\"cabin_number_contains_non_numeric_parts_unparsable_for_deck_{deck_char}\"\n",
    "\n",
    "    sections = deck_sections_simplified.get(deck_char)\n",
    "    if sections:\n",
    "        for limit, location_name in sections:\n",
    "            if cabin_num <= limit:\n",
    "                return location_name\n",
    "        # This case should ideally not be reached if float('inf') is the last limit,\n",
    "        # but as a fallback:\n",
    "        return f\"location_could_not_be_determined_on_deck_{deck_char}_num_{cabin_num}\"\n",
    "\n",
    "    return f\"rules_not_defined_for_deck_{deck_char}\" # Should be caught by initial deck_char check\n",
    "\n",
    "# --- Example Usage ---\n",
    "#if __name__ == \"__main__\":\n",
    "#    cabins_to_test = [\n",
    "#        \"C23\", \"A10\", \"A30\", \"A37\",\n",
    "#        \"B5\", \"B50\", \"B90\",\n",
    "#        \"D10\", \"D30\", \"D45\",\n",
    "#        \"E1\", \"E77\", \"E100\",\n",
    "#        \"F2\", \"F20\", \"F33\",\n",
    "#        \"G6\", # This is a 3rd class cabin, often listed on F deck plans but G-numbered\n",
    "#        \"T\",  # Marconi room\n",
    "#        \"C\", \"B10A\", \"X100\", \"F G6\", \"DeckZ99\"\n",
    "#\n",
    "#\n",
    "#    print(\"Titanic Cabin Location Estimations (Approximate):\")\n",
    "#    print(\"-------------------------------------------------\")\n",
    "#    for cabin in cabins_to_test:\n",
    "#        location = get_titanic_cabin_location(cabin)\n",
    "#        print(f\"Cabin '{cabin}': {location}\"\n",
    "#\n",
    "#    print(\"\\nNote: These locations are highly simplified estimations.\")\n",
    "#    print(\"The actual position of a cabin is complex and requires detailed deck plans.\")\n",
    "#    print(\"For example, 'G6' was often physically on F-Deck and would be considered 'aft'.\")\n",
    "#    print(\"The parser handles 'G6' as a G-deck cabin if not specially treated.\")\n",
    "\n"
   ]
  },
  {
   "cell_type": "code",
   "execution_count": 136,
   "id": "3053e880",
   "metadata": {},
   "outputs": [],
   "source": [
    "def preprocess(df_train, df_test):\n",
    "    df = pd.concat([df_train, df_test], axis=0)\n",
    "    df = df.drop(['Name', 'Ticket'], axis=1)\n",
    "\n",
    "    # age work\n",
    "    female_median = df[df['Sex'] == 'female']['Age'].median()\n",
    "    male_median = df[df['Sex'] == 'male']['Age'].median()\n",
    "\n",
    "    median_age_dict = {'male':male_median, 'female':female_median}\n",
    "    \n",
    "    df['Age'] = df['Age'].fillna(df['Sex'].map(median_age_dict))\n",
    "\n",
    "    # fare\n",
    "    df['Fare'] = df['Fare'].fillna(df['Fare'].median())\n",
    "\n",
    "    # cabin\n",
    "    df['Cabin_loc'] = df['Cabin'].map(lambda x: get_titanic_cabin_location(x))\n",
    "    df.loc[df['Cabin_loc'].isna() | ~df['Cabin_loc'].isin(['front', 'middle', 'back']), 'Cabin_loc'] = 'unknown'\n",
    "\n",
    "    df['Cabin_letter'] = df['Cabin'].str.extract(r'([A-Za-z])', expand=False)\n",
    "    df.loc[df['Cabin_letter'].isna(), 'Cabin_letter'] = 'U'\n",
    "\n",
    "    df['Cabin_number'] = df['Cabin'].str.extract(r'(\\d+)', expand=False)\n",
    "    df.loc[df['Cabin_number'].isna(), 'Cabin_number'] = 0\n",
    "    df['Cabin_number'] = pd.to_numeric(df['Cabin_number'])\n",
    "\n",
    "    \n",
    "    # embarked\n",
    "    df['Embarked'] = df['Embarked'].fillna('U')\n",
    "\n",
    "    # get dummies\n",
    "    df = pd.get_dummies(df, columns=['Sex'], prefix='Sex')\n",
    "    df = pd.get_dummies(df, columns=['Embarked'], prefix='Embarked')\n",
    "    df = pd.get_dummies(df, columns=['Cabin_loc'], prefix='Cabin_loc')\n",
    "    df = pd.get_dummies(df, columns=['Cabin_letter'], prefix='Cabin_letter')\n",
    "\n",
    "    #drop columns\n",
    "    df = df.drop(['Cabin','Embarked_U','Cabin_loc_unknown', 'Cabin_letter_U'], axis=1)\n",
    "\n",
    "    # get sets\n",
    "\n",
    "    df_train = df[:len(df_train)]\n",
    "    df_test = df[len(df_train):]\n",
    "\n",
    "    df_test = df_test.drop(['Survived'], axis=1)\n",
    "\n",
    "    return df_train, df_test"
   ]
  },
  {
   "cell_type": "markdown",
   "id": "ac687e1a",
   "metadata": {},
   "source": [
    "reference_df = preprocess(df_train, df_test)\n",
    "\n",
    "reference_df.info()\n",
    "# look for nan values\n",
    "\n",
    "missing_counts = reference_df.isnull().sum()\n",
    "filtered_counts = missing_counts.loc[missing_counts > 0]\n",
    "print(filtered_counts)\n",
    "\n",
    "\n",
    "# Age (263) -- we'll use the median age based on gender of the passenger\n",
    "# Fare (1) -- we'll use the median fare\n",
    "# Cabin (1014) -- despite being sparse, we'll see if we can use some values\n",
    "# Embarked (2) -- this should be dropped as it should have no influence on whether a passenger survived\n",
    "reference_df.head(10)"
   ]
  },
  {
   "cell_type": "code",
   "execution_count": 142,
   "id": "bdef378b",
   "metadata": {},
   "outputs": [],
   "source": [
    "train_df, test_df = preprocess(df_train, df_test)\n"
   ]
  },
  {
   "cell_type": "code",
   "execution_count": 143,
   "id": "f7eccaa6",
   "metadata": {},
   "outputs": [],
   "source": [
    "X = train_df.drop(['Survived'], axis=1)\n",
    "y = train_df['Survived']\n",
    "\n",
    "\n",
    "x_train, x_test, y_train, y_test = train_test_split(X, y, test_size=0.2, random_state=42)\n",
    "\n",
    "y_train = np.reshape(y_train.values, (-1, 1))"
   ]
  },
  {
   "cell_type": "code",
   "execution_count": 144,
   "id": "567dfde7",
   "metadata": {},
   "outputs": [
    {
     "data": {
      "text/plain": [
       "((712, 23), (712, 1))"
      ]
     },
     "execution_count": 144,
     "metadata": {},
     "output_type": "execute_result"
    }
   ],
   "source": [
    "x_train.shape, y_train.shape"
   ]
  },
  {
   "cell_type": "code",
   "execution_count": 145,
   "id": "0a2e65ee",
   "metadata": {},
   "outputs": [
    {
     "name": "stderr",
     "output_type": "stream",
     "text": [
      "c:\\Users\\jwill\\AppData\\Local\\Programs\\Python\\Python313\\Lib\\site-packages\\sklearn\\utils\\validation.py:1408: DataConversionWarning: A column-vector y was passed when a 1d array was expected. Please change the shape of y to (n_samples, ), for example using ravel().\n",
      "  y = column_or_1d(y, warn=True)\n",
      "c:\\Users\\jwill\\AppData\\Local\\Programs\\Python\\Python313\\Lib\\site-packages\\sklearn\\linear_model\\_logistic.py:465: ConvergenceWarning: lbfgs failed to converge (status=1):\n",
      "STOP: TOTAL NO. OF ITERATIONS REACHED LIMIT.\n",
      "\n",
      "Increase the number of iterations (max_iter) or scale the data as shown in:\n",
      "    https://scikit-learn.org/stable/modules/preprocessing.html\n",
      "Please also refer to the documentation for alternative solver options:\n",
      "    https://scikit-learn.org/stable/modules/linear_model.html#logistic-regression\n",
      "  n_iter_i = _check_optimize_result(\n"
     ]
    },
    {
     "data": {
      "text/plain": [
       "0.8100558659217877"
      ]
     },
     "execution_count": 145,
     "metadata": {},
     "output_type": "execute_result"
    }
   ],
   "source": [
    "model_1 = LogisticRegression()\n",
    "model_1 = model_1.fit(x_train, y_train)\n",
    "\n",
    "y_pred = model_1.predict(x_test)\n",
    "accuracy = accuracy_score(y_test, y_pred)\n",
    "\n",
    "accuracy"
   ]
  },
  {
   "cell_type": "code",
   "execution_count": 146,
   "id": "9b8fcf4b",
   "metadata": {},
   "outputs": [
    {
     "data": {
      "text/plain": [
       "0.7932960893854749"
      ]
     },
     "execution_count": 146,
     "metadata": {},
     "output_type": "execute_result"
    }
   ],
   "source": [
    "model_2 = XGBClassifier(enable_categorical=True)\n",
    "model_2 = model_2.fit(x_train, y_train)\n",
    "y_pred = model_2.predict(x_test)\n",
    "accuracy_score(y_test, y_pred)"
   ]
  },
  {
   "cell_type": "code",
   "execution_count": 148,
   "id": "d18b5767",
   "metadata": {},
   "outputs": [
    {
     "data": {
      "text/plain": [
       "Survived            1.000000\n",
       "Sex_female          0.543351\n",
       "Fare                0.257307\n",
       "Cabin_number        0.229756\n",
       "Cabin_loc_front     0.215539\n",
       "Cabin_letter_B      0.175095\n",
       "Embarked_C          0.168240\n",
       "Cabin_loc_back      0.167918\n",
       "Cabin_letter_D      0.150716\n",
       "Cabin_letter_E      0.145321\n",
       "Cabin_loc_middle    0.119742\n",
       "Cabin_letter_C      0.114652\n",
       "Parch               0.081629\n",
       "Cabin_letter_F      0.057935\n",
       "Cabin_letter_A      0.022287\n",
       "Cabin_letter_G      0.016040\n",
       "Embarked_Q          0.003650\n",
       "PassengerId        -0.005007\n",
       "Cabin_letter_T     -0.026456\n",
       "SibSp              -0.035322\n",
       "Age                -0.067644\n",
       "Embarked_S         -0.155660\n",
       "Pclass             -0.338481\n",
       "Sex_male           -0.543351\n",
       "Name: Survived, dtype: float64"
      ]
     },
     "execution_count": 148,
     "metadata": {},
     "output_type": "execute_result"
    }
   ],
   "source": [
    "train_df.corr()['Survived'].sort_values(ascending=False)"
   ]
  },
  {
   "cell_type": "code",
   "execution_count": 151,
   "id": "30bd4ab4",
   "metadata": {},
   "outputs": [
    {
     "name": "stderr",
     "output_type": "stream",
     "text": [
      "c:\\Users\\jwill\\AppData\\Local\\Programs\\Python\\Python313\\Lib\\site-packages\\sklearn\\base.py:1389: DataConversionWarning: A column-vector y was passed when a 1d array was expected. Please change the shape of y to (n_samples,), for example using ravel().\n",
      "  return fit_method(estimator, *args, **kwargs)\n"
     ]
    },
    {
     "data": {
      "text/plain": [
       "0.8212290502793296"
      ]
     },
     "execution_count": 151,
     "metadata": {},
     "output_type": "execute_result"
    }
   ],
   "source": [
    "model_3 = RandomForestClassifier()\n",
    "model_3 = model_3.fit(x_train, y_train)\n",
    "y_pred = model_3.predict(x_test)\n",
    "accuracy_score(y_test, y_pred)"
   ]
  },
  {
   "cell_type": "code",
   "execution_count": null,
   "id": "0567e7ea",
   "metadata": {},
   "outputs": [],
   "source": []
  }
 ],
 "metadata": {
  "kernelspec": {
   "display_name": "Python 3",
   "language": "python",
   "name": "python3"
  },
  "language_info": {
   "codemirror_mode": {
    "name": "ipython",
    "version": 3
   },
   "file_extension": ".py",
   "mimetype": "text/x-python",
   "name": "python",
   "nbconvert_exporter": "python",
   "pygments_lexer": "ipython3",
   "version": "3.13.3"
  }
 },
 "nbformat": 4,
 "nbformat_minor": 5
}
